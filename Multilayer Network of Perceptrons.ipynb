{
 "cells": [
  {
   "cell_type": "code",
   "execution_count": 38,
   "id": "genuine-carol",
   "metadata": {},
   "outputs": [],
   "source": [
    "using Plots\n",
    "using LinearAlgebra"
   ]
  },
  {
   "cell_type": "code",
   "execution_count": 45,
   "id": "proof-cassette",
   "metadata": {},
   "outputs": [
    {
     "data": {
      "text/plain": [
       "2"
      ]
     },
     "execution_count": 45,
     "metadata": {},
     "output_type": "execute_result"
    }
   ],
   "source": [
    "# Considering boolean inputs of dimension 2\n",
    "\n",
    "X = [[-1, -1], [-1, 1], [1, -1], [1, 1]]\n",
    "Y = [1, 1, 1, 0]\n",
    " \n",
    "n = length(X)                                            # Number of datapoints\n",
    "d = length(first(X))                                     # Dimension of datapoints"
   ]
  },
  {
   "cell_type": "code",
   "execution_count": 46,
   "id": "surrounded-coffee",
   "metadata": {},
   "outputs": [
    {
     "data": {
      "image/svg+xml": [
       "<?xml version=\"1.0\" encoding=\"utf-8\"?>\n",
       "<svg xmlns=\"http://www.w3.org/2000/svg\" xmlns:xlink=\"http://www.w3.org/1999/xlink\" width=\"600\" height=\"400\" viewBox=\"0 0 2400 1600\">\n",
       "<defs>\n",
       "  <clipPath id=\"clip080\">\n",
       "    <rect x=\"0\" y=\"0\" width=\"2400\" height=\"1600\"/>\n",
       "  </clipPath>\n",
       "</defs>\n",
       "<path clip-path=\"url(#clip080)\" d=\"\n",
       "M0 1600 L2400 1600 L2400 0 L0 0  Z\n",
       "  \" fill=\"#ffffff\" fill-rule=\"evenodd\" fill-opacity=\"1\"/>\n",
       "<defs>\n",
       "  <clipPath id=\"clip081\">\n",
       "    <rect x=\"480\" y=\"0\" width=\"1681\" height=\"1600\"/>\n",
       "  </clipPath>\n",
       "</defs>\n",
       "<path clip-path=\"url(#clip080)\" d=\"\n",
       "M142.455 1486.45 L2352.76 1486.45 L2352.76 47.2441 L142.455 47.2441  Z\n",
       "  \" fill=\"#ffffff\" fill-rule=\"evenodd\" fill-opacity=\"1\"/>\n",
       "<defs>\n",
       "  <clipPath id=\"clip082\">\n",
       "    <rect x=\"142\" y=\"47\" width=\"2211\" height=\"1440\"/>\n",
       "  </clipPath>\n",
       "</defs>\n",
       "<polyline clip-path=\"url(#clip082)\" style=\"stroke:#000000; stroke-width:2; stroke-opacity:0.1; fill:none\" points=\"\n",
       "  142.455,1486.45 142.455,47.2441 \n",
       "  \"/>\n",
       "<polyline clip-path=\"url(#clip082)\" style=\"stroke:#000000; stroke-width:2; stroke-opacity:0.1; fill:none\" points=\"\n",
       "  695.03,1486.45 695.03,47.2441 \n",
       "  \"/>\n",
       "<polyline clip-path=\"url(#clip082)\" style=\"stroke:#000000; stroke-width:2; stroke-opacity:0.1; fill:none\" points=\"\n",
       "  1247.61,1486.45 1247.61,47.2441 \n",
       "  \"/>\n",
       "<polyline clip-path=\"url(#clip082)\" style=\"stroke:#000000; stroke-width:2; stroke-opacity:0.1; fill:none\" points=\"\n",
       "  1800.18,1486.45 1800.18,47.2441 \n",
       "  \"/>\n",
       "<polyline clip-path=\"url(#clip082)\" style=\"stroke:#000000; stroke-width:2; stroke-opacity:0.1; fill:none\" points=\"\n",
       "  2352.76,1486.45 2352.76,47.2441 \n",
       "  \"/>\n",
       "<polyline clip-path=\"url(#clip080)\" style=\"stroke:#000000; stroke-width:4; stroke-opacity:1; fill:none\" points=\"\n",
       "  142.455,1486.45 2352.76,1486.45 \n",
       "  \"/>\n",
       "<polyline clip-path=\"url(#clip080)\" style=\"stroke:#000000; stroke-width:4; stroke-opacity:1; fill:none\" points=\"\n",
       "  142.455,1486.45 142.455,1469.18 \n",
       "  \"/>\n",
       "<polyline clip-path=\"url(#clip080)\" style=\"stroke:#000000; stroke-width:4; stroke-opacity:1; fill:none\" points=\"\n",
       "  695.03,1486.45 695.03,1469.18 \n",
       "  \"/>\n",
       "<polyline clip-path=\"url(#clip080)\" style=\"stroke:#000000; stroke-width:4; stroke-opacity:1; fill:none\" points=\"\n",
       "  1247.61,1486.45 1247.61,1469.18 \n",
       "  \"/>\n",
       "<polyline clip-path=\"url(#clip080)\" style=\"stroke:#000000; stroke-width:4; stroke-opacity:1; fill:none\" points=\"\n",
       "  1800.18,1486.45 1800.18,1469.18 \n",
       "  \"/>\n",
       "<polyline clip-path=\"url(#clip080)\" style=\"stroke:#000000; stroke-width:4; stroke-opacity:1; fill:none\" points=\"\n",
       "  2352.76,1486.45 2352.76,1469.18 \n",
       "  \"/>\n",
       "<path clip-path=\"url(#clip080)\" d=\"M 0 0 M114.909 1530.29 L144.584 1530.29 L144.584 1534.23 L114.909 1534.23 L114.909 1530.29 Z\" fill=\"#000000\" fill-rule=\"evenodd\" fill-opacity=\"1\" /><path clip-path=\"url(#clip080)\" d=\"M 0 0 M153.682 1543.18 L170.001 1543.18 L170.001 1547.12 L148.057 1547.12 L148.057 1543.18 Q150.719 1540.43 155.302 1535.8 Q159.908 1531.15 161.089 1529.81 Q163.334 1527.28 164.214 1525.55 Q165.117 1523.79 165.117 1522.1 Q165.117 1519.34 163.172 1517.61 Q161.251 1515.87 158.149 1515.87 Q155.95 1515.87 153.496 1516.63 Q151.066 1517.4 148.288 1518.95 L148.288 1514.23 Q151.112 1513.09 153.566 1512.51 Q156.02 1511.93 158.057 1511.93 Q163.427 1511.93 166.621 1514.62 Q169.816 1517.31 169.816 1521.8 Q169.816 1523.93 169.006 1525.85 Q168.219 1527.74 166.112 1530.34 Q165.533 1531.01 162.432 1534.23 Q159.33 1537.42 153.682 1543.18 Z\" fill=\"#000000\" fill-rule=\"evenodd\" fill-opacity=\"1\" /><path clip-path=\"url(#clip080)\" d=\"M 0 0 M667.299 1530.29 L696.975 1530.29 L696.975 1534.23 L667.299 1534.23 L667.299 1530.29 Z\" fill=\"#000000\" fill-rule=\"evenodd\" fill-opacity=\"1\" /><path clip-path=\"url(#clip080)\" d=\"M 0 0 M702.854 1543.18 L710.493 1543.18 L710.493 1516.82 L702.183 1518.49 L702.183 1514.23 L710.447 1512.56 L715.123 1512.56 L715.123 1543.18 L722.761 1543.18 L722.761 1547.12 L702.854 1547.12 L702.854 1543.18 Z\" fill=\"#000000\" fill-rule=\"evenodd\" fill-opacity=\"1\" /><path clip-path=\"url(#clip080)\" d=\"M 0 0 M1247.61 1515.64 Q1243.99 1515.64 1242.17 1519.2 Q1240.36 1522.75 1240.36 1529.87 Q1240.36 1536.98 1242.17 1540.55 Q1243.99 1544.09 1247.61 1544.09 Q1251.24 1544.09 1253.05 1540.55 Q1254.87 1536.98 1254.87 1529.87 Q1254.87 1522.75 1253.05 1519.2 Q1251.24 1515.64 1247.61 1515.64 M1247.61 1511.93 Q1253.42 1511.93 1256.47 1516.54 Q1259.55 1521.12 1259.55 1529.87 Q1259.55 1538.6 1256.47 1543.21 Q1253.42 1547.79 1247.61 1547.79 Q1241.8 1547.79 1238.72 1543.21 Q1235.66 1538.6 1235.66 1529.87 Q1235.66 1521.12 1238.72 1516.54 Q1241.8 1511.93 1247.61 1511.93 Z\" fill=\"#000000\" fill-rule=\"evenodd\" fill-opacity=\"1\" /><path clip-path=\"url(#clip080)\" d=\"M 0 0 M1790.56 1543.18 L1798.2 1543.18 L1798.2 1516.82 L1789.89 1518.49 L1789.89 1514.23 L1798.16 1512.56 L1802.83 1512.56 L1802.83 1543.18 L1810.47 1543.18 L1810.47 1547.12 L1790.56 1547.12 L1790.56 1543.18 Z\" fill=\"#000000\" fill-rule=\"evenodd\" fill-opacity=\"1\" /><path clip-path=\"url(#clip080)\" d=\"M 0 0 M2347.41 1543.18 L2363.73 1543.18 L2363.73 1547.12 L2341.78 1547.12 L2341.78 1543.18 Q2344.45 1540.43 2349.03 1535.8 Q2353.64 1531.15 2354.82 1529.81 Q2357.06 1527.28 2357.94 1525.55 Q2358.84 1523.79 2358.84 1522.1 Q2358.84 1519.34 2356.9 1517.61 Q2354.98 1515.87 2351.88 1515.87 Q2349.68 1515.87 2347.22 1516.63 Q2344.79 1517.4 2342.02 1518.95 L2342.02 1514.23 Q2344.84 1513.09 2347.29 1512.51 Q2349.75 1511.93 2351.78 1511.93 Q2357.15 1511.93 2360.35 1514.62 Q2363.54 1517.31 2363.54 1521.8 Q2363.54 1523.93 2362.73 1525.85 Q2361.95 1527.74 2359.84 1530.34 Q2359.26 1531.01 2356.16 1534.23 Q2353.06 1537.42 2347.41 1543.18 Z\" fill=\"#000000\" fill-rule=\"evenodd\" fill-opacity=\"1\" /><polyline clip-path=\"url(#clip082)\" style=\"stroke:#000000; stroke-width:2; stroke-opacity:0.1; fill:none\" points=\"\n",
       "  142.455,1486.45 2352.76,1486.45 \n",
       "  \"/>\n",
       "<polyline clip-path=\"url(#clip082)\" style=\"stroke:#000000; stroke-width:2; stroke-opacity:0.1; fill:none\" points=\"\n",
       "  142.455,1126.65 2352.76,1126.65 \n",
       "  \"/>\n",
       "<polyline clip-path=\"url(#clip082)\" style=\"stroke:#000000; stroke-width:2; stroke-opacity:0.1; fill:none\" points=\"\n",
       "  142.455,766.846 2352.76,766.846 \n",
       "  \"/>\n",
       "<polyline clip-path=\"url(#clip082)\" style=\"stroke:#000000; stroke-width:2; stroke-opacity:0.1; fill:none\" points=\"\n",
       "  142.455,407.045 2352.76,407.045 \n",
       "  \"/>\n",
       "<polyline clip-path=\"url(#clip082)\" style=\"stroke:#000000; stroke-width:2; stroke-opacity:0.1; fill:none\" points=\"\n",
       "  142.455,47.2441 2352.76,47.2441 \n",
       "  \"/>\n",
       "<polyline clip-path=\"url(#clip080)\" style=\"stroke:#000000; stroke-width:4; stroke-opacity:1; fill:none\" points=\"\n",
       "  142.455,1486.45 142.455,47.2441 \n",
       "  \"/>\n",
       "<polyline clip-path=\"url(#clip080)\" style=\"stroke:#000000; stroke-width:4; stroke-opacity:1; fill:none\" points=\"\n",
       "  142.455,1486.45 168.978,1486.45 \n",
       "  \"/>\n",
       "<polyline clip-path=\"url(#clip080)\" style=\"stroke:#000000; stroke-width:4; stroke-opacity:1; fill:none\" points=\"\n",
       "  142.455,1126.65 168.978,1126.65 \n",
       "  \"/>\n",
       "<polyline clip-path=\"url(#clip080)\" style=\"stroke:#000000; stroke-width:4; stroke-opacity:1; fill:none\" points=\"\n",
       "  142.455,766.846 168.978,766.846 \n",
       "  \"/>\n",
       "<polyline clip-path=\"url(#clip080)\" style=\"stroke:#000000; stroke-width:4; stroke-opacity:1; fill:none\" points=\"\n",
       "  142.455,407.045 168.978,407.045 \n",
       "  \"/>\n",
       "<polyline clip-path=\"url(#clip080)\" style=\"stroke:#000000; stroke-width:4; stroke-opacity:1; fill:none\" points=\"\n",
       "  142.455,47.2441 168.978,47.2441 \n",
       "  \"/>\n",
       "<path clip-path=\"url(#clip080)\" d=\"M 0 0 M51.3625 1486.9 L81.0383 1486.9 L81.0383 1490.83 L51.3625 1490.83 L51.3625 1486.9 Z\" fill=\"#000000\" fill-rule=\"evenodd\" fill-opacity=\"1\" /><path clip-path=\"url(#clip080)\" d=\"M 0 0 M90.1354 1499.79 L106.455 1499.79 L106.455 1503.73 L84.5105 1503.73 L84.5105 1499.79 Q87.1725 1497.04 91.7558 1492.41 Q96.3623 1487.76 97.5428 1486.41 Q99.7882 1483.89 100.668 1482.15 Q101.571 1480.39 101.571 1478.7 Q101.571 1475.95 99.6261 1474.21 Q97.7048 1472.48 94.603 1472.48 Q92.4039 1472.48 89.9503 1473.24 Q87.5197 1474.01 84.7419 1475.56 L84.7419 1470.83 Q87.566 1469.7 90.0197 1469.12 Q92.4734 1468.54 94.5104 1468.54 Q99.8808 1468.54 103.075 1471.23 Q106.27 1473.91 106.27 1478.4 Q106.27 1480.53 105.459 1482.45 Q104.672 1484.35 102.566 1486.95 Q101.987 1487.62 98.8854 1490.83 Q95.7836 1494.03 90.1354 1499.79 Z\" fill=\"#000000\" fill-rule=\"evenodd\" fill-opacity=\"1\" /><path clip-path=\"url(#clip080)\" d=\"M 0 0 M50.9921 1127.1 L80.6679 1127.1 L80.6679 1131.03 L50.9921 1131.03 L50.9921 1127.1 Z\" fill=\"#000000\" fill-rule=\"evenodd\" fill-opacity=\"1\" /><path clip-path=\"url(#clip080)\" d=\"M 0 0 M86.5475 1139.99 L94.1863 1139.99 L94.1863 1113.63 L85.8762 1115.29 L85.8762 1111.03 L94.14 1109.37 L98.8159 1109.37 L98.8159 1139.99 L106.455 1139.99 L106.455 1143.93 L86.5475 1143.93 L86.5475 1139.99 Z\" fill=\"#000000\" fill-rule=\"evenodd\" fill-opacity=\"1\" /><path clip-path=\"url(#clip080)\" d=\"M 0 0 M94.5104 752.645 Q90.8993 752.645 89.0706 756.209 Q87.2651 759.751 87.2651 766.881 Q87.2651 773.987 89.0706 777.552 Q90.8993 781.094 94.5104 781.094 Q98.1447 781.094 99.9502 777.552 Q101.779 773.987 101.779 766.881 Q101.779 759.751 99.9502 756.209 Q98.1447 752.645 94.5104 752.645 M94.5104 748.941 Q100.321 748.941 103.376 753.547 Q106.455 758.131 106.455 766.881 Q106.455 775.608 103.376 780.214 Q100.321 784.797 94.5104 784.797 Q88.7003 784.797 85.6216 780.214 Q82.566 775.608 82.566 766.881 Q82.566 758.131 85.6216 753.547 Q88.7003 748.941 94.5104 748.941 Z\" fill=\"#000000\" fill-rule=\"evenodd\" fill-opacity=\"1\" /><path clip-path=\"url(#clip080)\" d=\"M 0 0 M86.5475 420.39 L94.1863 420.39 L94.1863 394.024 L85.8762 395.691 L85.8762 391.432 L94.14 389.765 L98.8159 389.765 L98.8159 420.39 L106.455 420.39 L106.455 424.325 L86.5475 424.325 L86.5475 420.39 Z\" fill=\"#000000\" fill-rule=\"evenodd\" fill-opacity=\"1\" /><path clip-path=\"url(#clip080)\" d=\"M 0 0 M90.1354 60.5889 L106.455 60.5889 L106.455 64.5241 L84.5105 64.5241 L84.5105 60.5889 Q87.1725 57.8343 91.7558 53.2047 Q96.3623 48.552 97.5428 47.2094 Q99.7882 44.6862 100.668 42.9501 Q101.571 41.1909 101.571 39.5011 Q101.571 36.7465 99.6261 35.0104 Q97.7048 33.2743 94.603 33.2743 Q92.4039 33.2743 89.9503 34.0381 Q87.5197 34.802 84.7419 36.3529 L84.7419 31.6308 Q87.566 30.4965 90.0197 29.9178 Q92.4734 29.3391 94.5104 29.3391 Q99.8808 29.3391 103.075 32.0243 Q106.27 34.7094 106.27 39.2002 Q106.27 41.3298 105.459 43.2511 Q104.672 45.1492 102.566 47.7418 Q101.987 48.4131 98.8854 51.6306 Q95.7836 54.8251 90.1354 60.5889 Z\" fill=\"#000000\" fill-rule=\"evenodd\" fill-opacity=\"1\" /><circle clip-path=\"url(#clip082)\" cx=\"695.03\" cy=\"1126.65\" r=\"14\" fill=\"#009af9\" fill-rule=\"evenodd\" fill-opacity=\"1\" stroke=\"#000000\" stroke-opacity=\"1\" stroke-width=\"3.2\"/>\n",
       "<circle clip-path=\"url(#clip082)\" cx=\"695.03\" cy=\"407.045\" r=\"14\" fill=\"#009af9\" fill-rule=\"evenodd\" fill-opacity=\"1\" stroke=\"#000000\" stroke-opacity=\"1\" stroke-width=\"3.2\"/>\n",
       "<circle clip-path=\"url(#clip082)\" cx=\"1800.18\" cy=\"1126.65\" r=\"14\" fill=\"#009af9\" fill-rule=\"evenodd\" fill-opacity=\"1\" stroke=\"#000000\" stroke-opacity=\"1\" stroke-width=\"3.2\"/>\n",
       "<circle clip-path=\"url(#clip082)\" cx=\"1800.18\" cy=\"407.045\" r=\"14\" fill=\"#009af9\" fill-rule=\"evenodd\" fill-opacity=\"1\" stroke=\"#000000\" stroke-opacity=\"1\" stroke-width=\"3.2\"/>\n",
       "<path clip-path=\"url(#clip080)\" d=\"\n",
       "M1982.47 216.178 L2279.08 216.178 L2279.08 95.2176 L1982.47 95.2176  Z\n",
       "  \" fill=\"#ffffff\" fill-rule=\"evenodd\" fill-opacity=\"1\"/>\n",
       "<polyline clip-path=\"url(#clip080)\" style=\"stroke:#000000; stroke-width:4; stroke-opacity:1; fill:none\" points=\"\n",
       "  1982.47,216.178 2279.08,216.178 2279.08,95.2176 1982.47,95.2176 1982.47,216.178 \n",
       "  \"/>\n",
       "<circle clip-path=\"url(#clip080)\" cx=\"2080.71\" cy=\"155.698\" r=\"23\" fill=\"#009af9\" fill-rule=\"evenodd\" fill-opacity=\"1\" stroke=\"#000000\" stroke-opacity=\"1\" stroke-width=\"5.12\"/>\n",
       "<path clip-path=\"url(#clip080)\" d=\"M 0 0 M2192.79 175.385 Q2190.98 180.015 2189.27 181.427 Q2187.55 182.839 2184.68 182.839 L2181.28 182.839 L2181.28 179.274 L2183.78 179.274 Q2185.54 179.274 2186.51 178.44 Q2187.48 177.607 2188.67 174.505 L2189.43 172.561 L2178.94 147.052 L2183.46 147.052 L2191.56 167.329 L2199.66 147.052 L2204.17 147.052 L2192.79 175.385 Z\" fill=\"#000000\" fill-rule=\"evenodd\" fill-opacity=\"1\" /><path clip-path=\"url(#clip080)\" d=\"M 0 0 M2210.05 169.042 L2217.69 169.042 L2217.69 142.677 L2209.38 144.343 L2209.38 140.084 L2217.65 138.418 L2222.32 138.418 L2222.32 169.042 L2229.96 169.042 L2229.96 172.978 L2210.05 172.978 L2210.05 169.042 Z\" fill=\"#000000\" fill-rule=\"evenodd\" fill-opacity=\"1\" /></svg>\n"
      ]
     },
     "execution_count": 46,
     "metadata": {},
     "output_type": "execute_result"
    }
   ],
   "source": [
    "scatter(first.(X), last.(X), xlim=(-2, 2), ylim=(-2, 2))"
   ]
  },
  {
   "cell_type": "code",
   "execution_count": 47,
   "id": "ultimate-delaware",
   "metadata": {},
   "outputs": [
    {
     "name": "stdout",
     "output_type": "stream",
     "text": [
      "Any[Any[1, 0, 0, 0], Any[0, 1, 0, 0], Any[0, 0, 1, 0], Any[0, 0, 0, 1]]\n"
     ]
    }
   ],
   "source": [
    "# Hardcoding Layer 1\n",
    "\n",
    "n1 = 4                                                   # Number of perceptrons in layer 1\n",
    "θ1 = [-2,-2, -2, -2]                                     # Thresholds of the perceptrons in layer 1\n",
    "w1 = [[-1, -1], [-1, 1], [1, -1], [1, 1]]                # Weights of both dimensions of a input for the perceptrons\n",
    "\n",
    "h = []                                                   # Output of the perceptrons for each input\n",
    "\n",
    "#--------------------------------------------------------------------------------------------------------------------\n",
    "# Getting outputs of layer 1\n",
    "\n",
    "for _x in X\n",
    "    y = []\n",
    "    for i in 1:n1\n",
    "        x = copy(_x)\n",
    "        w = copy(w1[i])\n",
    "        if dot(append!(x, 1), append!(w, θ1[i])) >= 0\n",
    "            push!(y, 1)\n",
    "        else\n",
    "            push!(y, 0)\n",
    "        end\n",
    "    end\n",
    "    push!(h, y)\n",
    "end\n",
    "\n",
    "println(h)"
   ]
  },
  {
   "cell_type": "code",
   "execution_count": 48,
   "id": "ideal-bidding",
   "metadata": {},
   "outputs": [
    {
     "name": "stdout",
     "output_type": "stream",
     "text": [
      "Any[Any[0, 0, 0, 1]]\n"
     ]
    }
   ],
   "source": [
    "# Second layer pre-processing\n",
    "\n",
    "class_0 = []\n",
    "class_1 = []\n",
    "\n",
    "for i in 1:n\n",
    "   if Y[i] == 0\n",
    "        push!(class_0, h[i])\n",
    "    else\n",
    "        push!(class_1, h[i])\n",
    "    end\n",
    "end\n",
    "\n",
    "println(class_0)"
   ]
  },
  {
   "cell_type": "code",
   "execution_count": 49,
   "id": "suitable-making",
   "metadata": {},
   "outputs": [
    {
     "name": "stdout",
     "output_type": "stream",
     "text": [
      "[0.8582317601120992, 0.5563903658951159, 0.2902271773946401, -0.9038489299838313]\n"
     ]
    }
   ],
   "source": [
    "# Training Layer 2\n",
    "\n",
    "n2 = 1                                                   # Number of perceptrons in layer 1\n",
    "θ2 = rand()                                              # Random initialization of threshold\n",
    "w2 = [rand() for _ in 1:2^d]\n",
    "\n",
    "converged = false\n",
    "\n",
    "while !converged\n",
    "   converged = true\n",
    "    \n",
    "    for _x in class_0\n",
    "        x = copy(_x)\n",
    "        w = copy(w2)\n",
    "        if dot(append!(w, θ2), append!(x, 1)) >= 0\n",
    "            w2 -= _x\n",
    "            converged = false\n",
    "            break\n",
    "        end\n",
    "    end\n",
    "    \n",
    "    if converged\n",
    "        for _x in class_1\n",
    "            x = copy(_x)\n",
    "            w = copy(w2)\n",
    "            if dot(append!(w, θ2), append!(x, 1)) < 0\n",
    "                w2 += _x\n",
    "                converged = true\n",
    "                break\n",
    "            end\n",
    "        end\n",
    "    end\n",
    "end\n",
    "\n",
    "println(w2)"
   ]
  },
  {
   "cell_type": "code",
   "execution_count": null,
   "id": "seventh-traffic",
   "metadata": {},
   "outputs": [],
   "source": []
  }
 ],
 "metadata": {
  "kernelspec": {
   "display_name": "Julia 1.5.3",
   "language": "julia",
   "name": "julia-1.5"
  },
  "language_info": {
   "file_extension": ".jl",
   "mimetype": "application/julia",
   "name": "julia",
   "version": "1.5.3"
  }
 },
 "nbformat": 4,
 "nbformat_minor": 5
}
